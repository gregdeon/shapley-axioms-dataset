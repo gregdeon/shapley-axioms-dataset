{
 "cells": [
  {
   "cell_type": "code",
   "execution_count": 1,
   "metadata": {},
   "outputs": [],
   "source": [
    "import csv\n",
    "import random\n",
    "from collections import defaultdict\n",
    "import matplotlib.pyplot as plt\n",
    "\n",
    "import ipywidgets as widgets\n",
    "from ipywidgets import interact"
   ]
  },
  {
   "cell_type": "code",
   "execution_count": 2,
   "metadata": {},
   "outputs": [],
   "source": [
    "condition_names = ['equal', 'proportional', 'shapley', 'unfair']\n",
    "condition_colours = {'equal': '#990000','proportional': '#3333BB', 'shapley': '#009900', 'unfair': '#999933'}\n",
    "errs = ['err_sh', 'err_sym', 'err_eff', 'err_mrg', 'err_null', 'err_add']\n",
    "\n",
    "def avg(lst):\n",
    "    return sum(lst) / len(lst)\n",
    "\n",
    "def jitter(lst, magnitude):\n",
    "    return [x + random.uniform(-magnitude/2, magnitude/2) for x in lst]"
   ]
  },
  {
   "cell_type": "markdown",
   "metadata": {},
   "source": [
    "# Load Data"
   ]
  },
  {
   "cell_type": "code",
   "execution_count": 3,
   "metadata": {},
   "outputs": [
    {
     "name": "stdout",
     "output_type": "stream",
     "text": [
      "Loaded 1848 rows\n",
      "{'rating': 3, 'err_add': 0.16666666666666624, 'err_null': 0.0, 'err_eff': 0.33333333333333365, 'err_sh': 0.5, 'err_mrg': 0.16666666666666624, 'err_sym': 0.0}\n"
     ]
    }
   ],
   "source": [
    "with open('error_data.csv') as csv_file:\n",
    "    csv_reader = csv.DictReader(csv_file)\n",
    "    error_data = [row for row in csv_reader]\n",
    "    \n",
    "print(\"Loaded %d rows\" % len(error_data))\n",
    "\n",
    "data = defaultdict(list)\n",
    "for row in error_data:\n",
    "    obj = {err: float(row[err]) for err in errs}\n",
    "    obj['rating'] = int(row['rating'])\n",
    "    data[row['condition']].append(obj)\n",
    "print(data['shapley'][0])"
   ]
  },
  {
   "cell_type": "markdown",
   "metadata": {},
   "source": [
    "# Summary"
   ]
  },
  {
   "cell_type": "code",
   "execution_count": 9,
   "metadata": {},
   "outputs": [
    {
     "name": "stdout",
     "output_type": "stream",
     "text": [
      "equal\n",
      "err_sh^2  : 26.57\n",
      "err_sym^2 :  0.00 ( 0.00%)\n",
      "err_eff^2 :  0.67 ( 2.51%)\n",
      "err_mrg^2 : 25.90 (97.49%)\n",
      "err_null^2:  1.29 ( 4.87%)\n",
      "err_add^2 : 24.61 (92.62%)\n",
      "\n",
      "proportional\n",
      "err_sh^2  :  6.25\n",
      "err_sym^2 :  0.34 ( 5.41%)\n",
      "err_eff^2 :  0.81 (12.92%)\n",
      "err_mrg^2 :  5.11 (81.67%)\n",
      "err_null^2:  0.38 ( 6.02%)\n",
      "err_add^2 :  4.73 (75.64%)\n",
      "\n",
      "shapley\n",
      "err_sh^2  :  0.65\n",
      "err_sym^2 :  0.00 ( 0.00%)\n",
      "err_eff^2 :  0.53 (82.28%)\n",
      "err_mrg^2 :  0.11 (17.72%)\n",
      "err_null^2:  0.00 ( 0.17%)\n",
      "err_add^2 :  0.11 (17.55%)\n",
      "\n",
      "unfair\n",
      "err_sh^2  : 76.21\n",
      "err_sym^2 :  3.55 ( 4.65%)\n",
      "err_eff^2 :  0.41 ( 0.54%)\n",
      "err_mrg^2 : 72.25 (94.81%)\n",
      "err_null^2:  4.63 ( 6.07%)\n",
      "err_add^2 : 67.62 (88.74%)\n",
      "\n"
     ]
    }
   ],
   "source": [
    "for condition_name in condition_names:\n",
    "    avgs = {}\n",
    "    for err in errs:\n",
    "        avgs[err] = avg([d[err] for d in data[condition_name]])\n",
    "        \n",
    "    print(condition_name)\n",
    "    print(\"err_sh^2  : %5.2f\" % avgs['err_sh'])\n",
    "    print(\"err_sym^2 : %5.2f (%5.2f%%)\" % (avgs['err_sym'], avgs['err_sym'] / avgs['err_sh'] * 100))\n",
    "    print(\"err_eff^2 : %5.2f (%5.2f%%)\" % (avgs['err_eff'], avgs['err_eff'] / avgs['err_sh'] * 100))\n",
    "    print(\"err_mrg^2 : %5.2f (%5.2f%%)\" % (avgs['err_mrg'], avgs['err_mrg'] / avgs['err_sh'] * 100))\n",
    "    print(\"err_null^2: %5.2f (%5.2f%%)\" % (avgs['err_null'], avgs['err_null'] / avgs['err_sh'] * 100))\n",
    "    print(\"err_add^2 : %5.2f (%5.2f%%)\" % (avgs['err_add'], avgs['err_add'] / avgs['err_sh'] * 100))\n",
    "    print(\"\")"
   ]
  },
  {
   "cell_type": "markdown",
   "metadata": {},
   "source": [
    "# Interactive Plots"
   ]
  },
  {
   "cell_type": "markdown",
   "metadata": {},
   "source": [
    "## Histogram"
   ]
  },
  {
   "cell_type": "code",
   "execution_count": 5,
   "metadata": {},
   "outputs": [],
   "source": [
    "def makeHistograms(var, autoscale_x=True, x_max=100, autoscale_y=True, y_max=100):\n",
    "    plt.figure(figsize=(10, 4))\n",
    "    for (i, condition_name) in enumerate(condition_names):\n",
    "        plt.subplot(1, 4, i+1)\n",
    "        plt_data = [d[var] for d in data[condition_name]]\n",
    "        plt.hist(plt_data, color=condition_colours[condition_name], rwidth=0.8)\n",
    "\n",
    "        if not autoscale_x:\n",
    "            plt.xlim(-x_max/10, x_max)\n",
    "        if not autoscale_y:\n",
    "            plt.ylim(0, y_max)\n",
    "        plt.title(condition_name, size=10)\n",
    "    plt.tight_layout()\n",
    "    plt.show()"
   ]
  },
  {
   "cell_type": "code",
   "execution_count": 6,
   "metadata": {},
   "outputs": [
    {
     "data": {
      "application/vnd.jupyter.widget-view+json": {
       "model_id": "fd94f9705d604c7d86f2d955500972a6",
       "version_major": 2,
       "version_minor": 0
      },
      "text/plain": [
       "aW50ZXJhY3RpdmUoY2hpbGRyZW49KERyb3Bkb3duKGRlc2NyaXB0aW9uPXUndmFyJywgb3B0aW9ucz0oJ2Vycl9zaCcsICdlcnJfc3ltJywgJ2Vycl9lZmYnLCAnZXJyX21yZycsICdlcnJfbnXigKY=\n"
      ]
     },
     "metadata": {},
     "output_type": "display_data"
    }
   ],
   "source": [
    "var_options = ['err_sh', 'err_sym', 'err_eff', 'err_mrg', 'err_null', 'err_add', 'rating']\n",
    "\n",
    "interact(\n",
    "    makeHistograms, \n",
    "    var=var_options,\n",
    "    autoscale_x=True,\n",
    "    x_max=widgets.FloatLogSlider(value=10, base=10, min=0, max=2.6, step=0.1),\n",
    "    autoscale_y=True,\n",
    "    y_max=widgets.FloatLogSlider(value=10, base=10, min=0, max=2.9, step=0.1),\n",
    ");"
   ]
  },
  {
   "cell_type": "markdown",
   "metadata": {},
   "source": [
    "## Scatter Plot"
   ]
  },
  {
   "cell_type": "code",
   "execution_count": 7,
   "metadata": {},
   "outputs": [],
   "source": [
    "def makeScatterPlots(x_var, y_var, autoscale_x=True, x_max=100, autoscale_y=True, y_max=100, jitter_y=False):\n",
    "    plt.figure(figsize=(10, 4))\n",
    "    for (i, condition_name) in enumerate(condition_names):\n",
    "        plt.subplot(1, 4, i+1)\n",
    "        plt_x = [d[x_var] for d in data[condition_name]]\n",
    "        plt_y = [d[y_var] for d in data[condition_name]]\n",
    "        if jitter_y:\n",
    "            plt_y = jitter(plt_y, 0.2)\n",
    "        plt.scatter(plt_x, plt_y, color=condition_colours[condition_name], s=8)\n",
    "\n",
    "        if not autoscale_x:\n",
    "            plt.xlim(-x_max / 10, x_max)\n",
    "        if not autoscale_y:\n",
    "            plt.ylim(-y_max / 10, y_max)\n",
    "        plt.title(condition_name, size=10)\n",
    "\n",
    "    plt.tight_layout()\n",
    "    plt.show()"
   ]
  },
  {
   "cell_type": "code",
   "execution_count": 8,
   "metadata": {},
   "outputs": [
    {
     "data": {
      "application/vnd.jupyter.widget-view+json": {
       "model_id": "cdb0e31fa29b4ca5987dfe3ad5724585",
       "version_major": 2,
       "version_minor": 0
      },
      "text/plain": [
       "aW50ZXJhY3RpdmUoY2hpbGRyZW49KERyb3Bkb3duKGRlc2NyaXB0aW9uPXUneF92YXInLCBvcHRpb25zPSgnZXJyX3NoJywgJ2Vycl9zeW0nLCAnZXJyX2VmZicsICdlcnJfbXJnJywgJ2Vycl/igKY=\n"
      ]
     },
     "metadata": {},
     "output_type": "display_data"
    }
   ],
   "source": [
    "var_options = ['err_sh', 'err_sym', 'err_eff', 'err_mrg', 'err_null', 'err_add', 'rating']\n",
    "\n",
    "interact(\n",
    "    makeScatterPlots, \n",
    "    x_var=var_options,\n",
    "    y_var=widgets.Dropdown(options=var_options, value='rating'),\n",
    "    autoscale_x=True,\n",
    "    x_max=widgets.FloatLogSlider(value=10, base=10, min=0, max=2.6, step=0.1),\n",
    "    autoscale_y=True,\n",
    "    y_max=widgets.FloatLogSlider(value=10, base=10, min=0, max=2.6, step=0.1),\n",
    "    y_jitter=False\n",
    ");"
   ]
  }
 ],
 "metadata": {
  "kernelspec": {
   "display_name": "Python 2",
   "language": "python",
   "name": "python2"
  },
  "language_info": {
   "codemirror_mode": {
    "name": "ipython",
    "version": 2
   },
   "file_extension": ".py",
   "mimetype": "text/x-python",
   "name": "python",
   "nbconvert_exporter": "python",
   "pygments_lexer": "ipython2",
   "version": "2.7.15"
  },
  "toc": {
   "base_numbering": 1,
   "nav_menu": {},
   "number_sections": true,
   "sideBar": true,
   "skip_h1_title": false,
   "title_cell": "Table of Contents",
   "title_sidebar": "Contents",
   "toc_cell": false,
   "toc_position": {},
   "toc_section_display": true,
   "toc_window_display": false
  },
  "widgets": {
   "application/vnd.jupyter.widget-state+json": {
    "state": {
     "0379da691aa64fb5acd0d7a8962545c3": {
      "model_module": "@jupyter-widgets/controls",
      "model_module_version": "1.4.0",
      "model_name": "DescriptionStyleModel",
      "state": {
       "description_width": ""
      }
     },
     "04d24af4ab274778bb67bf0ac437bd69": {
      "model_module": "@jupyter-widgets/base",
      "model_module_version": "1.1.0",
      "model_name": "LayoutModel",
      "state": {}
     },
     "04f89e4ea66445628346c9b33a5aa060": {
      "model_module": "@jupyter-widgets/controls",
      "model_module_version": "1.4.0",
      "model_name": "DropdownModel",
      "state": {
       "_options_labels": [
        "err_sh",
        "err_sym",
        "err_eff",
        "err_mrg",
        "err_null",
        "err_add",
        "rating"
       ],
       "description": "y_var",
       "index": 6,
       "layout": "IPY_MODEL_4fa61d9f054a4c5cb1c913979f5214f5",
       "style": "IPY_MODEL_728b4da549df42a2bb06fc073e54ce71"
      }
     },
     "0abb0ddf91eb4d7abd1cd8d80b8cc8c6": {
      "model_module": "@jupyter-widgets/base",
      "model_module_version": "1.1.0",
      "model_name": "LayoutModel",
      "state": {}
     },
     "0bb0e294902845b6a7895b0fd9a7d5a8": {
      "model_module": "@jupyter-widgets/base",
      "model_module_version": "1.1.0",
      "model_name": "LayoutModel",
      "state": {}
     },
     "105bae0da8fd4accb27409786eb39c07": {
      "model_module": "@jupyter-widgets/controls",
      "model_module_version": "1.4.0",
      "model_name": "DescriptionStyleModel",
      "state": {
       "description_width": ""
      }
     },
     "2bfd62251b3547558d5bd122d78bf8db": {
      "model_module": "@jupyter-widgets/base",
      "model_module_version": "1.1.0",
      "model_name": "LayoutModel",
      "state": {}
     },
     "3661fd5cc3cb48d79ea8109f9a90c073": {
      "model_module": "@jupyter-widgets/base",
      "model_module_version": "1.1.0",
      "model_name": "LayoutModel",
      "state": {}
     },
     "381d4e1f87c74945a138698304e60fd0": {
      "model_module": "@jupyter-widgets/base",
      "model_module_version": "1.1.0",
      "model_name": "LayoutModel",
      "state": {}
     },
     "3953d3ceebd74cbba3e2e096aa780e00": {
      "model_module": "@jupyter-widgets/controls",
      "model_module_version": "1.4.0",
      "model_name": "DescriptionStyleModel",
      "state": {
       "description_width": ""
      }
     },
     "3b9c46889c4b4bc1b2a7a3f69bb80c2b": {
      "model_module": "@jupyter-widgets/controls",
      "model_module_version": "1.4.0",
      "model_name": "SliderStyleModel",
      "state": {
       "description_width": ""
      }
     },
     "46d25f569903404eb74b69f92992daa3": {
      "model_module": "@jupyter-widgets/base",
      "model_module_version": "1.1.0",
      "model_name": "LayoutModel",
      "state": {}
     },
     "4d95387a4ac54c2eb9257de35a3e353d": {
      "model_module": "@jupyter-widgets/controls",
      "model_module_version": "1.4.0",
      "model_name": "DropdownModel",
      "state": {
       "_options_labels": [
        "err_sh",
        "err_sym",
        "err_eff",
        "err_mrg",
        "err_null",
        "err_add",
        "rating"
       ],
       "description": "var",
       "index": 0,
       "layout": "IPY_MODEL_04d24af4ab274778bb67bf0ac437bd69",
       "style": "IPY_MODEL_53766b1369ba42ea8957c3c5597c3bcf"
      }
     },
     "4fa61d9f054a4c5cb1c913979f5214f5": {
      "model_module": "@jupyter-widgets/base",
      "model_module_version": "1.1.0",
      "model_name": "LayoutModel",
      "state": {}
     },
     "53766b1369ba42ea8957c3c5597c3bcf": {
      "model_module": "@jupyter-widgets/controls",
      "model_module_version": "1.4.0",
      "model_name": "DescriptionStyleModel",
      "state": {
       "description_width": ""
      }
     },
     "57f6f73b8e744e69a6e606767b85fd51": {
      "model_module": "@jupyter-widgets/controls",
      "model_module_version": "1.4.0",
      "model_name": "SliderStyleModel",
      "state": {
       "description_width": ""
      }
     },
     "58959c4cc7ad40088add90ef8f268101": {
      "model_module": "@jupyter-widgets/controls",
      "model_module_version": "1.4.0",
      "model_name": "FloatLogSliderModel",
      "state": {
       "description": "x_max",
       "layout": "IPY_MODEL_f0fe22bf44454870bb7df4f7e89653ec",
       "max": 2.6,
       "style": "IPY_MODEL_3b9c46889c4b4bc1b2a7a3f69bb80c2b",
       "value": 10
      }
     },
     "5e723abbe80440b899e7b6b29865fa35": {
      "model_module": "@jupyter-widgets/controls",
      "model_module_version": "1.4.0",
      "model_name": "DescriptionStyleModel",
      "state": {
       "description_width": ""
      }
     },
     "61e73471aaed4179a58e7e84b37a8738": {
      "model_module": "@jupyter-widgets/base",
      "model_module_version": "1.1.0",
      "model_name": "LayoutModel",
      "state": {}
     },
     "62bf7d9e311f4eed998f2a050d4a570d": {
      "model_module": "@jupyter-widgets/controls",
      "model_module_version": "1.4.0",
      "model_name": "DescriptionStyleModel",
      "state": {
       "description_width": ""
      }
     },
     "68b5a97a83a6499296dd91897711155e": {
      "model_module": "@jupyter-widgets/controls",
      "model_module_version": "1.4.0",
      "model_name": "CheckboxModel",
      "state": {
       "description": "jitter_y",
       "disabled": false,
       "layout": "IPY_MODEL_b06d53cdd2ab40a6a401c90aa91a2609",
       "style": "IPY_MODEL_3953d3ceebd74cbba3e2e096aa780e00",
       "value": false
      }
     },
     "6b16813953b04e45a884672053497ab5": {
      "model_module": "@jupyter-widgets/controls",
      "model_module_version": "1.4.0",
      "model_name": "SliderStyleModel",
      "state": {
       "description_width": ""
      }
     },
     "728b4da549df42a2bb06fc073e54ce71": {
      "model_module": "@jupyter-widgets/controls",
      "model_module_version": "1.4.0",
      "model_name": "DescriptionStyleModel",
      "state": {
       "description_width": ""
      }
     },
     "73609af0d7654f0fb7641c2bb0946336": {
      "model_module": "@jupyter-widgets/controls",
      "model_module_version": "1.4.0",
      "model_name": "CheckboxModel",
      "state": {
       "description": "autoscale_x",
       "disabled": false,
       "layout": "IPY_MODEL_0abb0ddf91eb4d7abd1cd8d80b8cc8c6",
       "style": "IPY_MODEL_105bae0da8fd4accb27409786eb39c07",
       "value": true
      }
     },
     "766d175217564baea897adaabad65ec7": {
      "model_module": "@jupyter-widgets/controls",
      "model_module_version": "1.4.0",
      "model_name": "CheckboxModel",
      "state": {
       "description": "autoscale_y",
       "disabled": false,
       "layout": "IPY_MODEL_61e73471aaed4179a58e7e84b37a8738",
       "style": "IPY_MODEL_62bf7d9e311f4eed998f2a050d4a570d",
       "value": true
      }
     },
     "843e663afe9f43af88b897e3928a4088": {
      "model_module": "@jupyter-widgets/output",
      "model_module_version": "1.0.0",
      "model_name": "OutputModel",
      "state": {
       "layout": "IPY_MODEL_ecfa8178e777473d9fbf75b52cdb6b65",
       "outputs": [
        {
         "data": {
          "image/png": "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\n",
          "text/plain": "<Figure size 720x288 with 4 Axes>"
         },
         "metadata": {},
         "output_type": "display_data"
        }
       ]
      }
     },
     "898b5abd870c4424aac65fce4452c6e9": {
      "model_module": "@jupyter-widgets/controls",
      "model_module_version": "1.4.0",
      "model_name": "DropdownModel",
      "state": {
       "_options_labels": [
        "err_sh",
        "err_sym",
        "err_eff",
        "err_mrg",
        "err_null",
        "err_add",
        "rating"
       ],
       "description": "x_var",
       "index": 0,
       "layout": "IPY_MODEL_0bb0e294902845b6a7895b0fd9a7d5a8",
       "style": "IPY_MODEL_0379da691aa64fb5acd0d7a8962545c3"
      }
     },
     "934e94ad7dac4a9abcc08180434ae26c": {
      "model_module": "@jupyter-widgets/output",
      "model_module_version": "1.0.0",
      "model_name": "OutputModel",
      "state": {
       "layout": "IPY_MODEL_46d25f569903404eb74b69f92992daa3",
       "outputs": [
        {
         "data": {
          "image/png": "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\n",
          "text/plain": "<Figure size 720x288 with 4 Axes>"
         },
         "metadata": {},
         "output_type": "display_data"
        }
       ]
      }
     },
     "9a31d05d71c244b4b61aa6348af2a7b3": {
      "model_module": "@jupyter-widgets/controls",
      "model_module_version": "1.4.0",
      "model_name": "FloatLogSliderModel",
      "state": {
       "description": "y_max",
       "layout": "IPY_MODEL_dc8fa5b8b6084682a665ca0f56e60da9",
       "max": 2.9,
       "style": "IPY_MODEL_6b16813953b04e45a884672053497ab5",
       "value": 10
      }
     },
     "9d982c8028d147508ffca105dbd8be22": {
      "model_module": "@jupyter-widgets/controls",
      "model_module_version": "1.4.0",
      "model_name": "CheckboxModel",
      "state": {
       "description": "autoscale_x",
       "disabled": false,
       "layout": "IPY_MODEL_381d4e1f87c74945a138698304e60fd0",
       "style": "IPY_MODEL_b9862ba0218b4cb6b76a6ada5a80d62c",
       "value": true
      }
     },
     "b06d53cdd2ab40a6a401c90aa91a2609": {
      "model_module": "@jupyter-widgets/base",
      "model_module_version": "1.1.0",
      "model_name": "LayoutModel",
      "state": {}
     },
     "b94a58f24cb441178fea2206b2665a18": {
      "model_module": "@jupyter-widgets/controls",
      "model_module_version": "1.4.0",
      "model_name": "SliderStyleModel",
      "state": {
       "description_width": ""
      }
     },
     "b9862ba0218b4cb6b76a6ada5a80d62c": {
      "model_module": "@jupyter-widgets/controls",
      "model_module_version": "1.4.0",
      "model_name": "DescriptionStyleModel",
      "state": {
       "description_width": ""
      }
     },
     "c4ace71bf50a4b7aa8a0c5857a552e5b": {
      "model_module": "@jupyter-widgets/base",
      "model_module_version": "1.1.0",
      "model_name": "LayoutModel",
      "state": {}
     },
     "cb94ac9b36b94af0ab5d26eb4e6cbe33": {
      "model_module": "@jupyter-widgets/base",
      "model_module_version": "1.1.0",
      "model_name": "LayoutModel",
      "state": {}
     },
     "cdb0e31fa29b4ca5987dfe3ad5724585": {
      "model_module": "@jupyter-widgets/controls",
      "model_module_version": "1.4.0",
      "model_name": "VBoxModel",
      "state": {
       "_dom_classes": [
        "widget-interact"
       ],
       "children": [
        "IPY_MODEL_898b5abd870c4424aac65fce4452c6e9",
        "IPY_MODEL_04f89e4ea66445628346c9b33a5aa060",
        "IPY_MODEL_9d982c8028d147508ffca105dbd8be22",
        "IPY_MODEL_fa6af85fbc5f49c79b97fddaacc41126",
        "IPY_MODEL_fc31b10233eb4fd7bc0527593e1b5a04",
        "IPY_MODEL_dab92d3b85364350a40897b280bf9a2f",
        "IPY_MODEL_68b5a97a83a6499296dd91897711155e",
        "IPY_MODEL_843e663afe9f43af88b897e3928a4088"
       ],
       "layout": "IPY_MODEL_2bfd62251b3547558d5bd122d78bf8db"
      }
     },
     "dab92d3b85364350a40897b280bf9a2f": {
      "model_module": "@jupyter-widgets/controls",
      "model_module_version": "1.4.0",
      "model_name": "FloatLogSliderModel",
      "state": {
       "description": "y_max",
       "layout": "IPY_MODEL_cb94ac9b36b94af0ab5d26eb4e6cbe33",
       "max": 2.6,
       "style": "IPY_MODEL_b94a58f24cb441178fea2206b2665a18",
       "value": 10
      }
     },
     "dc8fa5b8b6084682a665ca0f56e60da9": {
      "model_module": "@jupyter-widgets/base",
      "model_module_version": "1.1.0",
      "model_name": "LayoutModel",
      "state": {}
     },
     "ecfa8178e777473d9fbf75b52cdb6b65": {
      "model_module": "@jupyter-widgets/base",
      "model_module_version": "1.1.0",
      "model_name": "LayoutModel",
      "state": {}
     },
     "eefe3b5139114389bc785ea60bd346d6": {
      "model_module": "@jupyter-widgets/base",
      "model_module_version": "1.1.0",
      "model_name": "LayoutModel",
      "state": {}
     },
     "f0fe22bf44454870bb7df4f7e89653ec": {
      "model_module": "@jupyter-widgets/base",
      "model_module_version": "1.1.0",
      "model_name": "LayoutModel",
      "state": {}
     },
     "fa6af85fbc5f49c79b97fddaacc41126": {
      "model_module": "@jupyter-widgets/controls",
      "model_module_version": "1.4.0",
      "model_name": "FloatLogSliderModel",
      "state": {
       "description": "x_max",
       "layout": "IPY_MODEL_3661fd5cc3cb48d79ea8109f9a90c073",
       "max": 2.6,
       "style": "IPY_MODEL_57f6f73b8e744e69a6e606767b85fd51",
       "value": 10
      }
     },
     "fc31b10233eb4fd7bc0527593e1b5a04": {
      "model_module": "@jupyter-widgets/controls",
      "model_module_version": "1.4.0",
      "model_name": "CheckboxModel",
      "state": {
       "description": "autoscale_y",
       "disabled": false,
       "layout": "IPY_MODEL_c4ace71bf50a4b7aa8a0c5857a552e5b",
       "style": "IPY_MODEL_5e723abbe80440b899e7b6b29865fa35",
       "value": true
      }
     },
     "fd94f9705d604c7d86f2d955500972a6": {
      "model_module": "@jupyter-widgets/controls",
      "model_module_version": "1.4.0",
      "model_name": "VBoxModel",
      "state": {
       "_dom_classes": [
        "widget-interact"
       ],
       "children": [
        "IPY_MODEL_4d95387a4ac54c2eb9257de35a3e353d",
        "IPY_MODEL_73609af0d7654f0fb7641c2bb0946336",
        "IPY_MODEL_58959c4cc7ad40088add90ef8f268101",
        "IPY_MODEL_766d175217564baea897adaabad65ec7",
        "IPY_MODEL_9a31d05d71c244b4b61aa6348af2a7b3",
        "IPY_MODEL_934e94ad7dac4a9abcc08180434ae26c"
       ],
       "layout": "IPY_MODEL_eefe3b5139114389bc785ea60bd346d6"
      }
     }
    },
    "version_major": 2,
    "version_minor": 0
   }
  }
 },
 "nbformat": 4,
 "nbformat_minor": 2
}
