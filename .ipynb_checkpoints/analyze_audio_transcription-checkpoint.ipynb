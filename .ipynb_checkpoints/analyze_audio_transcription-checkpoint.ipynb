{
 "cells": [
  {
   "cell_type": "code",
   "execution_count": 142,
   "metadata": {},
   "outputs": [],
   "source": [
    "import csv\n",
    "import random\n",
    "from collections import defaultdict\n",
    "import matplotlib.pyplot as plt\n",
    "\n",
    "import ipywidgets as widgets\n",
    "from ipywidgets import interact"
   ]
  },
  {
   "cell_type": "code",
   "execution_count": 120,
   "metadata": {},
   "outputs": [],
   "source": [
    "condition_names = ['equal', 'proportional', 'shapley', 'unfair']\n",
    "condition_colours = {'equal': '#990000','proportional': '#3333BB', 'shapley': '#009900', 'unfair': '#999933'}\n",
    "errs = ['err_sh', 'err_sym', 'err_eff', 'err_mrg', 'err_null', 'err_add']\n",
    "\n",
    "def avg(lst):\n",
    "    return sum(lst) / len(lst)\n",
    "\n",
    "def jitter(lst, magnitude):\n",
    "    return [x + random.uniform(-magnitude/2, magnitude/2) for x in lst]"
   ]
  },
  {
   "cell_type": "markdown",
   "metadata": {},
   "source": [
    "# Load Data"
   ]
  },
  {
   "cell_type": "code",
   "execution_count": 121,
   "metadata": {},
   "outputs": [
    {
     "name": "stdout",
     "output_type": "stream",
     "text": [
      "Loaded 1848 rows\n",
      "{'err_sh': 0.5, 'err_sym': 0.0, 'err_eff': 0.33333333333333365, 'err_mrg': 0.16666666666666624, 'err_null': 0.0, 'err_add': 0.16666666666666624, 'rating': 3}\n"
     ]
    }
   ],
   "source": [
    "with open('error_data.csv') as csv_file:\n",
    "    csv_reader = csv.DictReader(csv_file)\n",
    "    error_data = [row for row in csv_reader]\n",
    "    \n",
    "print(\"Loaded %d rows\" % len(error_data))\n",
    "\n",
    "data = defaultdict(list)\n",
    "for row in error_data:\n",
    "    obj = {err: float(row[err]) for err in errs}\n",
    "    obj['rating'] = int(row['rating'])\n",
    "    data[row['condition']].append(obj)\n",
    "print(data['shapley'][0])"
   ]
  },
  {
   "cell_type": "markdown",
   "metadata": {},
   "source": [
    "# Summary"
   ]
  },
  {
   "cell_type": "code",
   "execution_count": 124,
   "metadata": {},
   "outputs": [
    {
     "name": "stdout",
     "output_type": "stream",
     "text": [
      "equal\n",
      "err_sh^2  : 26.57\n",
      "err_sym^2 :  0.00 ( 0.00%)\n",
      "err_eff^2 :  0.67 ( 2.51%)\n",
      "err_mrg^2 : 25.90 (97.49%)\n",
      "err_null^2:  1.29 ( 4.87%)\n",
      "err_add^2 : 24.61 (92.62%)\n",
      "\n",
      "proportional\n",
      "err_sh^2  :  6.25\n",
      "err_sym^2 :  0.34 ( 5.41%)\n",
      "err_eff^2 :  0.81 (12.92%)\n",
      "err_mrg^2 :  5.11 (81.67%)\n",
      "err_null^2:  0.38 ( 6.02%)\n",
      "err_add^2 :  4.73 (75.64%)\n",
      "\n",
      "shapley\n",
      "err_sh^2  :  0.65\n",
      "err_sym^2 :  0.00 ( 0.00%)\n",
      "err_eff^2 :  0.53 (82.28%)\n",
      "err_mrg^2 :  0.11 (17.72%)\n",
      "err_null^2:  0.00 ( 0.17%)\n",
      "err_add^2 :  0.11 (17.55%)\n",
      "\n",
      "unfair\n",
      "err_sh^2  : 76.21\n",
      "err_sym^2 :  3.55 ( 4.65%)\n",
      "err_eff^2 :  0.41 ( 0.54%)\n",
      "err_mrg^2 : 72.25 (94.81%)\n",
      "err_null^2:  4.63 ( 6.07%)\n",
      "err_add^2 : 67.62 (88.74%)\n",
      "\n"
     ]
    }
   ],
   "source": [
    "for condition_name in condition_names:\n",
    "    avgs = {}\n",
    "    for err in errs:\n",
    "        avgs[err] = avg([d[err] for d in data[condition_name]])\n",
    "        \n",
    "    print(condition_name)\n",
    "    print(\"err_sh^2  : %5.2f\" % avgs['err_sh'])\n",
    "    print(\"err_sym^2 : %5.2f (%5.2f%%)\" % (avgs['err_sym'], avgs['err_sym'] / avgs['err_sh'] * 100))\n",
    "    print(\"err_eff^2 : %5.2f (%5.2f%%)\" % (avgs['err_eff'], avgs['err_eff'] / avgs['err_sh'] * 100))\n",
    "    print(\"err_mrg^2 : %5.2f (%5.2f%%)\" % (avgs['err_mrg'], avgs['err_mrg'] / avgs['err_sh'] * 100))\n",
    "    print(\"err_null^2: %5.2f (%5.2f%%)\" % (avgs['err_null'], avgs['err_null'] / avgs['err_sh'] * 100))\n",
    "    print(\"err_add^2 : %5.2f (%5.2f%%)\" % (avgs['err_add'], avgs['err_add'] / avgs['err_sh'] * 100))\n",
    "    print()"
   ]
  },
  {
   "cell_type": "markdown",
   "metadata": {},
   "source": [
    "# Interactive Plots"
   ]
  },
  {
   "cell_type": "markdown",
   "metadata": {},
   "source": [
    "## Histogram"
   ]
  },
  {
   "cell_type": "code",
   "execution_count": 132,
   "metadata": {},
   "outputs": [],
   "source": [
    "def makeHistograms(var, autoscale_x=True, x_max=100, autoscale_y=True, y_max=100):\n",
    "    plt.figure(figsize=(10, 4))\n",
    "    for (i, condition_name) in enumerate(condition_names):\n",
    "        plt.subplot(1, 4, i+1)\n",
    "        plt_data = [d[var] for d in data[condition_name]]\n",
    "        plt.hist(plt_data, color=condition_colours[condition_name], rwidth=0.8)\n",
    "\n",
    "        if not autoscale_x:\n",
    "            plt.xlim(-x_max/10, x_max)\n",
    "        if not autoscale_y:\n",
    "            plt.ylim(0, y_max)\n",
    "        plt.title(condition_name, size=10)\n",
    "    plt.tight_layout()\n",
    "    plt.show()"
   ]
  },
  {
   "cell_type": "code",
   "execution_count": 141,
   "metadata": {},
   "outputs": [
    {
     "data": {
      "application/vnd.jupyter.widget-view+json": {
       "model_id": "29c55db2af844fe89fa825b0542e6592",
       "version_major": 2,
       "version_minor": 0
      },
      "text/plain": [
       "interactive(children=(Dropdown(description='var', options=('err_sh', 'err_sym', 'err_eff', 'err_mrg', 'err_nul…"
      ]
     },
     "metadata": {},
     "output_type": "display_data"
    }
   ],
   "source": [
    "var_options = ['err_sh', 'err_sym', 'err_eff', 'err_mrg', 'err_null', 'err_add', 'rating']\n",
    "\n",
    "interact(\n",
    "    makeHistograms, \n",
    "    var=var_options,\n",
    "    autoscale_x=True,\n",
    "    x_max=widgets.FloatLogSlider(value=10, base=10, min=0, max=2.6, step=0.1),\n",
    "    autoscale_y=True,\n",
    "    y_max=widgets.FloatLogSlider(value=10, base=10, min=0, max=2.9, step=0.1),\n",
    ");"
   ]
  },
  {
   "cell_type": "markdown",
   "metadata": {},
   "source": [
    "## Scatter Plot"
   ]
  },
  {
   "cell_type": "code",
   "execution_count": 127,
   "metadata": {},
   "outputs": [],
   "source": [
    "def makeScatterPlots(x_var, y_var, autoscale_x=True, x_max=100, autoscale_y=True, y_max=100, jitter_y=False):\n",
    "    plt.figure(figsize=(10, 4))\n",
    "    for (i, condition_name) in enumerate(condition_names):\n",
    "        plt.subplot(1, 4, i+1)\n",
    "        plt_x = [d[x_var] for d in data[condition_name]]\n",
    "        plt_y = [d[y_var] for d in data[condition_name]]\n",
    "        if jitter_y:\n",
    "            plt_y = jitter(plt_y, 0.2)\n",
    "        plt.scatter(plt_x, plt_y, color=condition_colours[condition_name], s=8)\n",
    "\n",
    "        if not autoscale_x:\n",
    "            plt.xlim(-x_max / 10, x_max)\n",
    "        if not autoscale_y:\n",
    "            plt.ylim(-y_max / 10, y_max)\n",
    "        plt.title(condition_name, size=10)\n",
    "\n",
    "    plt.tight_layout()\n",
    "    plt.show()"
   ]
  },
  {
   "cell_type": "code",
   "execution_count": 138,
   "metadata": {},
   "outputs": [
    {
     "data": {
      "application/vnd.jupyter.widget-view+json": {
       "model_id": "11cda37cd6b94f6ca9ed1b44cab6865d",
       "version_major": 2,
       "version_minor": 0
      },
      "text/plain": [
       "interactive(children=(Dropdown(description='x_var', options=('err_sh', 'err_sym', 'err_eff', 'err_mrg', 'err_n…"
      ]
     },
     "metadata": {},
     "output_type": "display_data"
    }
   ],
   "source": [
    "var_options = ['err_sh', 'err_sym', 'err_eff', 'err_mrg', 'err_null', 'err_add', 'rating']\n",
    "\n",
    "interact(\n",
    "    makeScatterPlots, \n",
    "    x_var=var_options,\n",
    "    y_var=widgets.Dropdown(options=var_options, value='rating'),\n",
    "    autoscale_x=True,\n",
    "    x_max=widgets.FloatLogSlider(value=10, base=10, min=0, max=2.6, step=0.1),\n",
    "    autoscale_y=True,\n",
    "    y_max=widgets.FloatLogSlider(value=10, base=10, min=0, max=2.6, step=0.1),\n",
    "    y_jitter=False\n",
    ");"
   ]
  }
 ],
 "metadata": {
  "kernelspec": {
   "display_name": "Python 3",
   "language": "python",
   "name": "python3"
  },
  "language_info": {
   "codemirror_mode": {
    "name": "ipython",
    "version": 3
   },
   "file_extension": ".py",
   "mimetype": "text/x-python",
   "name": "python",
   "nbconvert_exporter": "python",
   "pygments_lexer": "ipython3",
   "version": "3.6.2"
  }
 },
 "nbformat": 4,
 "nbformat_minor": 2
}
